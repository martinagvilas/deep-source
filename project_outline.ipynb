{
 "cells": [
  {
   "cell_type": "markdown",
   "metadata": {},
   "source": [
    "# Deep-Source project outline"
   ]
  },
  {
   "cell_type": "markdown",
   "metadata": {},
   "source": [
    "## Problem statement"
   ]
  },
  {
   "cell_type": "markdown",
   "metadata": {},
   "source": [
    "Many source reconstruction methods have been developed to estimate the source data of MEG data. So far, no study has looked into how these methods differ in reconstructing depth sources in the brain."
   ]
  },
  {
   "cell_type": "markdown",
   "metadata": {},
   "source": [
    "## The source reconstruction method"
   ]
  },
  {
   "cell_type": "markdown",
   "metadata": {},
   "source": [
    "Given:\n",
    "\n",
    "<center>$Y = HX + E$</center>\n",
    "\n",
    "* $Y$ is the MEG data we measure (in sensor space) \n",
    "* $H$ is the lead field matrix, which maps us from sources in the brain to sensors outside of the head\n",
    "* $X$ is the source-space activity that we want to estimate\n",
    "* $E$ is the noise in our data"
   ]
  },
  {
   "cell_type": "markdown",
   "metadata": {},
   "source": [
    "## Step 1: Create lead-field data "
   ]
  },
  {
   "cell_type": "markdown",
   "metadata": {},
   "source": [
    "To create $H$ we need:\n",
    "\n",
    "- A head model (estimated using Single Shell sphere)\n",
    "- A source model (description of the cortical sheet)\n"
   ]
  },
  {
   "cell_type": "markdown",
   "metadata": {},
   "source": [
    "## Step 2: Create ground truth data"
   ]
  },
  {
   "cell_type": "markdown",
   "metadata": {},
   "source": [
    "To create ground truth X we simulate data varying the following scenarios:\n",
    "\n",
    "- Depth of the sources (by varying $X$)\n",
    "- Correlation of the sources (by varying $X$)\n",
    "- Closeness of the sources (by varying $X$)\n",
    "- The SNR (by varying $E$)\n"
   ]
  },
  {
   "cell_type": "markdown",
   "metadata": {},
   "source": [
    "## Step 3: Run inverse models"
   ]
  },
  {
   "cell_type": "markdown",
   "metadata": {},
   "source": [
    "### Possibilities of inverse model\n",
    "- Minimum norm estimation (MNE)\n",
    "- Beamformer\n",
    "- HMM Beamformer (Maximum Likelihood)\n"
   ]
  },
  {
   "cell_type": "markdown",
   "metadata": {},
   "source": [
    "## Step 4: Compare accuracies of source reconstruction methods"
   ]
  },
  {
   "cell_type": "markdown",
   "metadata": {},
   "source": [
    "### Quantitative accuracy measures\n",
    "- Crosstalk-to-Signal Ratio (CSR)\n",
    "- Neural Activity Index (NAI)\n",
    "- Point-Spread Functions"
   ]
  },
  {
   "cell_type": "markdown",
   "metadata": {},
   "source": [
    "### Qualitative accuracy measures\n",
    "\n",
    "Plot the source in the brain"
   ]
  }
 ],
 "metadata": {
  "kernelspec": {
   "display_name": "Python 3",
   "language": "python",
   "name": "python3"
  },
  "language_info": {
   "codemirror_mode": {
    "name": "ipython",
    "version": 3
   },
   "file_extension": ".py",
   "mimetype": "text/x-python",
   "name": "python",
   "nbconvert_exporter": "python",
   "pygments_lexer": "ipython3",
   "version": "3.6.8"
  }
 },
 "nbformat": 4,
 "nbformat_minor": 2
}
